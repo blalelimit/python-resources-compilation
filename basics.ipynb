{
 "cells": [
  {
   "attachments": {},
   "cell_type": "markdown",
   "metadata": {},
   "source": [
    "## BASICS"
   ]
  },
  {
   "attachments": {},
   "cell_type": "markdown",
   "metadata": {},
   "source": [
    "### DATA TYPES"
   ]
  },
  {
   "cell_type": "code",
   "execution_count": 1,
   "metadata": {},
   "outputs": [],
   "source": [
    "integer = 10\n",
    "double = 10.0\n",
    "boolean = True\n",
    "char = 'i'\n",
    "string = 'item'"
   ]
  },
  {
   "attachments": {},
   "cell_type": "markdown",
   "metadata": {},
   "source": [
    "### CASTING"
   ]
  },
  {
   "cell_type": "code",
   "execution_count": 2,
   "metadata": {},
   "outputs": [
    {
     "name": "stdout",
     "output_type": "stream",
     "text": [
      "Old Items [10, 10, 10.0, True, True]\n",
      "New Items [10.0, '10', 10, 'True', 1]\n",
      "Old Datatypes [<class 'int'>, <class 'int'>, <class 'float'>, <class 'bool'>, <class 'bool'>]\n",
      "New Datatypes [<class 'float'>, <class 'str'>, <class 'int'>, <class 'str'>, <class 'int'>]\n"
     ]
    },
    {
     "data": {
      "text/html": [
       "<div>\n",
       "<style scoped>\n",
       "    .dataframe tbody tr th:only-of-type {\n",
       "        vertical-align: middle;\n",
       "    }\n",
       "\n",
       "    .dataframe tbody tr th {\n",
       "        vertical-align: top;\n",
       "    }\n",
       "\n",
       "    .dataframe thead th {\n",
       "        text-align: right;\n",
       "    }\n",
       "</style>\n",
       "<table border=\"1\" class=\"dataframe\">\n",
       "  <thead>\n",
       "    <tr style=\"text-align: right;\">\n",
       "      <th></th>\n",
       "      <th>old_items</th>\n",
       "      <th>old_dtypes</th>\n",
       "      <th>new_items</th>\n",
       "      <th>new_dtypes</th>\n",
       "    </tr>\n",
       "  </thead>\n",
       "  <tbody>\n",
       "    <tr>\n",
       "      <th>0</th>\n",
       "      <td>10</td>\n",
       "      <td>&lt;class 'int'&gt;</td>\n",
       "      <td>10.0</td>\n",
       "      <td>&lt;class 'float'&gt;</td>\n",
       "    </tr>\n",
       "    <tr>\n",
       "      <th>1</th>\n",
       "      <td>10</td>\n",
       "      <td>&lt;class 'int'&gt;</td>\n",
       "      <td>10</td>\n",
       "      <td>&lt;class 'str'&gt;</td>\n",
       "    </tr>\n",
       "    <tr>\n",
       "      <th>2</th>\n",
       "      <td>10.0</td>\n",
       "      <td>&lt;class 'float'&gt;</td>\n",
       "      <td>10</td>\n",
       "      <td>&lt;class 'int'&gt;</td>\n",
       "    </tr>\n",
       "    <tr>\n",
       "      <th>3</th>\n",
       "      <td>True</td>\n",
       "      <td>&lt;class 'bool'&gt;</td>\n",
       "      <td>True</td>\n",
       "      <td>&lt;class 'str'&gt;</td>\n",
       "    </tr>\n",
       "    <tr>\n",
       "      <th>4</th>\n",
       "      <td>True</td>\n",
       "      <td>&lt;class 'bool'&gt;</td>\n",
       "      <td>1</td>\n",
       "      <td>&lt;class 'int'&gt;</td>\n",
       "    </tr>\n",
       "  </tbody>\n",
       "</table>\n",
       "</div>"
      ],
      "text/plain": [
       "  old_items       old_dtypes new_items       new_dtypes\n",
       "0        10    <class 'int'>      10.0  <class 'float'>\n",
       "1        10    <class 'int'>        10    <class 'str'>\n",
       "2      10.0  <class 'float'>        10    <class 'int'>\n",
       "3      True   <class 'bool'>      True    <class 'str'>\n",
       "4      True   <class 'bool'>         1    <class 'int'>"
      ]
     },
     "metadata": {},
     "output_type": "display_data"
    }
   ],
   "source": [
    "import pandas as pd\n",
    "\n",
    "old_items = [integer, integer, double, boolean, boolean]\n",
    "new_items = [float(integer), str(integer), int(double), str(boolean), int(boolean)]\n",
    "\n",
    "print(f'Old Items {old_items}')\n",
    "print(f'New Items {new_items}')\n",
    "print(f'Old Datatypes {list(map(type, old_items))}')\n",
    "print(f'New Datatypes {list(map(type, new_items))}')\n",
    "\n",
    "display(pd.DataFrame({'old_items': old_items, 'old_dtypes': list(map(type, old_items)), \n",
    "    \t'new_items': new_items, 'new_dtypes': list(map(type, new_items))}))"
   ]
  },
  {
   "attachments": {},
   "cell_type": "markdown",
   "metadata": {},
   "source": [
    "### CONTROL STRUCTURES & FUNCTIONS"
   ]
  },
  {
   "cell_type": "code",
   "execution_count": 3,
   "metadata": {},
   "outputs": [
    {
     "name": "stdout",
     "output_type": "stream",
     "text": [
      "(0, '0b0')\n",
      "(0, '0') \n",
      "\n",
      "(1, '0b1')\n",
      "(1, '1') \n",
      "\n",
      "You got Heads, you win\n"
     ]
    }
   ],
   "source": [
    "import numpy as np\n",
    "\n",
    "a = list(range(0, 2))\n",
    "b = map(bin, a)\n",
    "\n",
    "for x, y in zip(a, b):\n",
    "\tprint(tuple((x, y)))\n",
    "\tprint(tuple((x, y.replace('0b', ''))), '\\n')\n",
    "\n",
    "def play_game():\n",
    "\twhile True:\n",
    "\t\trng = np.random.default_rng(seed=None)\n",
    "\t\tchoice = rng.choice(['Head', 'Tails'])\n",
    "\t\t\n",
    "\t\tif choice == 'Head':\n",
    "\t\t\tprint(f'You got Heads, you win')\n",
    "\t\t\tbreak\n",
    "\t\telse:\n",
    "\t\t\tprint(f'You got Tails, you lose')\n",
    "\n",
    "play_game()"
   ]
  },
  {
   "attachments": {},
   "cell_type": "markdown",
   "metadata": {},
   "source": [
    "### ARRAYS"
   ]
  },
  {
   "cell_type": "code",
   "execution_count": 4,
   "metadata": {},
   "outputs": [
    {
     "name": "stdout",
     "output_type": "stream",
     "text": [
      "int32\n",
      "array([0, 1, 2, 3, 4, 5, 6, 7, 8, 9])\n",
      "\n",
      "object\n",
      "array([0, 1, 2, 3, 4, 5, 6, 7, 8, 9], dtype=object)\n"
     ]
    }
   ],
   "source": [
    "import numpy as np\n",
    "\n",
    "int_num = np.arange(10)\n",
    "print(int_num.dtype)\n",
    "print(repr(int_num), '\\n', sep='')\n",
    "\n",
    "str_num = int_num.astype('object')\n",
    "print(str_num.dtype)\n",
    "print(repr(str_num))"
   ]
  }
 ],
 "metadata": {
  "kernelspec": {
   "display_name": "base",
   "language": "python",
   "name": "python3"
  },
  "language_info": {
   "codemirror_mode": {
    "name": "ipython",
    "version": 3
   },
   "file_extension": ".py",
   "mimetype": "text/x-python",
   "name": "python",
   "nbconvert_exporter": "python",
   "pygments_lexer": "ipython3",
   "version": "3.9.13"
  },
  "orig_nbformat": 4
 },
 "nbformat": 4,
 "nbformat_minor": 2
}
